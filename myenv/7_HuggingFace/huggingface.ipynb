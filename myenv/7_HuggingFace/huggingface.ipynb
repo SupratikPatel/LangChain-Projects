{
 "cells": [
  {
   "cell_type": "code",
   "metadata": {
    "ExecuteTime": {
     "end_time": "2024-06-12T18:41:15.095972Z",
     "start_time": "2024-06-12T18:41:14.319268Z"
    }
   },
   "source": [
    "from langchain_community.document_loaders import PyPDFLoader\n",
    "from langchain_community.document_loaders import PyPDFDirectoryLoader\n",
    "from langchain.text_splitter import RecursiveCharacterTextSplitter\n",
    "from langchain_community.vectorstores import FAISS\n",
    "\n",
    "from langchain_community.embeddings import HuggingFaceBgeEmbeddings\n",
    "from langchain.prompts import PromptTemplate\n",
    "\n",
    "from langchain.chains import RetrievalQA\n",
    "\n"
   ],
   "outputs": [],
   "execution_count": 1
  },
  {
   "cell_type": "code",
   "metadata": {
    "ExecuteTime": {
     "end_time": "2024-06-12T18:41:40.165978Z",
     "start_time": "2024-06-12T18:41:16.551803Z"
    }
   },
   "source": [
    "## Read the ppdfs from the folder\n",
    "loader=PyPDFDirectoryLoader(\"./economicSurvey\")\n",
    "\n",
    "documents=loader.load()\n",
    "\n",
    "text_splitter=RecursiveCharacterTextSplitter(chunk_size=1000,chunk_overlap=200)\n",
    "\n",
    "final_documents=text_splitter.split_documents(documents)\n",
    "final_documents[0]"
   ],
   "outputs": [
    {
     "data": {
      "text/plain": [
       "Document(page_content='Economic\\nSurvey 2022-23\\nGovernment of  India\\nMinistry of  Finance\\nDepartment of  Economic Affairs\\nEconomic Division\\nNorth Block\\nNew Delhi-110001\\nJanuary, 2023', metadata={'source': 'economicSurvey\\\\Economic Survey 22-23.pdf', 'page': 0})"
      ]
     },
     "execution_count": 2,
     "metadata": {},
     "output_type": "execute_result"
    }
   ],
   "execution_count": 2
  },
  {
   "cell_type": "code",
   "metadata": {
    "ExecuteTime": {
     "end_time": "2024-06-12T18:41:44.705797Z",
     "start_time": "2024-06-12T18:41:44.700755Z"
    }
   },
   "source": [
    "len(final_documents)"
   ],
   "outputs": [
    {
     "data": {
      "text/plain": [
       "2906"
      ]
     },
     "execution_count": 3,
     "metadata": {},
     "output_type": "execute_result"
    }
   ],
   "execution_count": 3
  },
  {
   "cell_type": "code",
   "metadata": {
    "ExecuteTime": {
     "end_time": "2024-06-12T18:52:40.159427Z",
     "start_time": "2024-06-12T18:52:38.628459Z"
    }
   },
   "source": [
    "## Embedding Using Huggingface\n",
    "from tqdm.autonotebook import tqdm, trange\n",
    "huggingface_embeddings=HuggingFaceBgeEmbeddings(\n",
    "    model_name=\"BAAI/bge-small-en-v1.5\",      #sentence-transformers/all-MiniLM-l6-v2\n",
    "    model_kwargs={'device':'cpu'},\n",
    "    encode_kwargs={'normalize_embeddings':True}\n",
    ")"
   ],
   "outputs": [],
   "execution_count": 8
  },
  {
   "cell_type": "code",
   "metadata": {
    "ExecuteTime": {
     "end_time": "2024-06-12T18:52:45.525609Z",
     "start_time": "2024-06-12T18:52:44.301942Z"
    }
   },
   "source": [
    "import numpy as np\n",
    "print(np.array(huggingface_embeddings.embed_query(final_documents[0].page_content)))\n",
    "print(np.array(huggingface_embeddings.embed_query(final_documents[0].page_content)).shape)"
   ],
   "outputs": [
    {
     "name": "stdout",
     "output_type": "stream",
     "text": [
      "[-1.65690295e-02 -3.99196185e-02 -1.05896322e-02 -2.40996405e-02\n",
      "  5.45143895e-02  5.91869093e-02  2.27332693e-02  2.64223088e-02\n",
      " -2.88180243e-02  9.88948625e-04  5.38988262e-02  1.19647318e-02\n",
      " -1.73696643e-03  3.74568217e-02  1.65536404e-02 -4.17738892e-02\n",
      " -3.17145362e-02 -1.10766619e-01  2.72003040e-02  3.35501544e-02\n",
      "  8.18391517e-02 -2.35597789e-03  1.70991942e-02 -9.98104289e-02\n",
      "  2.07515247e-02  1.86326094e-02  2.26712283e-02 -7.87614807e-02\n",
      " -2.76551973e-02 -1.17993332e-01  6.24427125e-02 -6.86210319e-02\n",
      "  2.94928458e-02 -3.00586317e-02  2.11289860e-02 -1.67274184e-03\n",
      "  2.82015484e-02  9.09048170e-02  2.33434886e-02 -2.97657140e-02\n",
      " -3.56337465e-02  1.88697781e-02  9.72870388e-04 -4.37775925e-02\n",
      "  5.55217080e-03 -3.33155543e-02 -2.12661456e-02  1.95751972e-02\n",
      " -3.18237878e-02 -3.61032486e-02  9.46649164e-03 -8.38591307e-02\n",
      " -8.96006916e-03  2.00300757e-02  3.03959101e-02 -2.49167401e-02\n",
      " -1.93350352e-02 -2.23947465e-02  1.54758170e-02  8.12176168e-02\n",
      "  7.12768361e-02  1.87031133e-03 -2.48766139e-01  3.27436440e-02\n",
      "  3.89308780e-02 -4.23270091e-02  3.65900956e-02 -4.06630374e-02\n",
      " -2.93822587e-02  2.83744074e-02  3.32948193e-02  1.16671855e-02\n",
      " -3.06285117e-02 -5.63474037e-02 -2.86155436e-02  1.38925016e-02\n",
      "  5.47755659e-02 -3.52800302e-02  2.91459309e-03 -5.48153855e-02\n",
      " -3.45362560e-03  3.96248065e-02  1.24119297e-02 -3.11894920e-02\n",
      " -1.40722282e-02 -2.83345673e-03  8.56093783e-03  2.20184736e-02\n",
      " -1.72700845e-02 -1.95678063e-02  7.08212778e-02  3.48744579e-02\n",
      "  1.86249260e-02  2.35093590e-02 -6.69780970e-02 -2.57732027e-04\n",
      "  3.52298021e-02  4.27465215e-02 -4.56888974e-02  3.72718483e-01\n",
      " -4.36672755e-02  2.56352555e-02  7.88522512e-03  2.28137802e-02\n",
      " -4.92016748e-02 -1.45563046e-02 -6.22877218e-02 -2.95642689e-02\n",
      "  1.61286686e-02 -2.02589836e-02  4.10933606e-02 -1.47209447e-02\n",
      "  6.85879886e-02 -5.58187105e-02 -2.88635958e-02 -2.81466134e-02\n",
      "  1.85358450e-02 -1.74693279e-02  4.56254520e-02  1.36625078e-02\n",
      " -4.04993147e-02 -2.46660248e-03 -5.56026120e-03 -3.18798162e-02\n",
      "  3.04342266e-02  1.23479692e-02 -1.01366658e-02  5.13657406e-02\n",
      " -2.29302403e-02  1.16070705e-02 -1.29162502e-02 -8.92182719e-03\n",
      " -1.11705802e-01  2.42565274e-02 -1.84314381e-02 -1.21156108e-02\n",
      "  2.79953666e-02 -2.54277606e-02  2.89740041e-02 -3.09351482e-04\n",
      " -7.50521710e-03 -2.68533230e-02 -1.08071312e-03 -8.97180513e-02\n",
      " -3.15862745e-02  1.03184897e-02 -2.05869582e-02 -6.27638027e-02\n",
      " -8.23456794e-03 -4.47104611e-02 -3.54124345e-02  7.71385357e-02\n",
      "  2.79275905e-02 -8.36452842e-02  1.46052511e-02  1.95163079e-02\n",
      "  1.68841984e-02  3.45235467e-02 -2.42036562e-02 -2.41003484e-02\n",
      "  3.46928351e-02 -1.94589291e-02 -8.26490894e-02  9.52876061e-02\n",
      "  4.60521877e-02 -1.11169532e-01 -1.26815690e-02  2.69052666e-02\n",
      " -4.06951644e-02  6.30439585e-03  2.98066624e-02  2.22061444e-02\n",
      " -2.57573053e-02 -1.14696641e-02  8.41044188e-02 -1.44485361e-03\n",
      "  6.17076503e-03 -1.80182829e-02  4.17458266e-02  4.31587081e-03\n",
      "  5.33161126e-02 -6.26376225e-03  1.39248753e-02 -2.68417746e-02\n",
      "  3.48796397e-02 -2.42674090e-02 -4.49665217e-03  3.27191018e-02\n",
      " -2.62766145e-02 -4.93265204e-02 -8.12648982e-02  3.32580805e-02\n",
      " -7.29456618e-02  8.48727226e-02 -3.29995602e-02 -6.36729673e-02\n",
      " -1.17133895e-03  2.15397030e-02  4.07184288e-02 -2.80276425e-02\n",
      " -5.64523693e-03  5.78750391e-03 -1.38759427e-02  5.05680963e-02\n",
      "  3.50684114e-02  2.14320384e-02  3.07871979e-02 -1.54198678e-02\n",
      "  1.46573335e-02  5.04752398e-02  3.18140537e-02 -3.26918103e-02\n",
      "  1.09948367e-01  1.05859870e-02 -5.19576296e-02 -1.32554313e-02\n",
      "  7.32929260e-02 -4.49457066e-03  4.87585105e-02  2.24391278e-02\n",
      "  8.26477725e-03  1.82991624e-02  2.06673052e-02 -2.82289356e-01\n",
      "  3.37458588e-02 -9.38635599e-03  6.05174992e-03 -7.85880536e-03\n",
      " -5.95416874e-03  4.67938744e-02 -1.51347108e-02  2.82955859e-02\n",
      "  1.10139847e-01  3.15703563e-02  4.23818231e-02 -3.50723416e-02\n",
      "  5.20170815e-02  7.00245425e-02 -1.70622040e-02  5.08131646e-02\n",
      "  1.70961190e-02  5.40846912e-03  4.21229890e-03  2.04857495e-02\n",
      "  3.03158164e-02 -5.29764928e-02  3.10975555e-02  4.45952006e-02\n",
      " -5.83371930e-02  9.81172472e-02 -1.04882017e-01  2.84741982e-03\n",
      " -3.29271734e-06  1.50947236e-02  4.92220372e-02 -8.45131874e-02\n",
      " -1.49440736e-01 -7.91032612e-03  1.23525662e-02 -5.28585725e-02\n",
      "  5.24198972e-02 -8.13703537e-02 -4.53120470e-02  2.31608264e-02\n",
      "  2.51299571e-02 -4.51811515e-02  3.89398970e-02  3.39712426e-02\n",
      " -4.31581885e-02 -1.70026086e-02 -7.57198874e-03 -1.73972175e-02\n",
      "  1.40215093e-02 -3.81222144e-02 -3.85273173e-02 -3.51496078e-02\n",
      "  7.56163076e-02  8.56165960e-03 -5.64513914e-02 -1.70843881e-02\n",
      " -1.67897791e-02 -3.19799362e-03 -5.85771389e-02  1.38703799e-02\n",
      " -2.24925540e-02 -6.21122727e-03 -2.85734702e-02 -6.52650595e-02\n",
      "  2.68446263e-02  4.71051969e-02 -1.62102114e-02 -3.09233554e-02\n",
      "  2.85914261e-02 -1.34818656e-02  1.93096548e-02  1.76494643e-02\n",
      " -3.84822004e-02  1.02747763e-02  1.18303690e-02  3.11586875e-02\n",
      "  2.44683269e-02  1.87686849e-02 -4.59066108e-02  4.86902781e-02\n",
      "  1.33127151e-02  5.04409261e-02  6.20766878e-02 -1.67841613e-02\n",
      "  7.89989308e-02  2.12330781e-02  2.89087892e-02 -1.95333567e-02\n",
      " -2.20244788e-02  2.59834509e-02  1.06064631e-02  1.15242628e-02\n",
      " -2.42038947e-02  3.33747938e-02  3.15779634e-02 -2.44519979e-01\n",
      "  3.40429284e-02  8.85435787e-04 -5.14727198e-02  3.76172317e-03\n",
      " -6.88656815e-04  6.17210846e-03  2.30505615e-02 -5.50370552e-02\n",
      "  7.92464837e-02  1.16816526e-02  5.12903482e-02  2.16537975e-02\n",
      " -4.63701934e-02  2.46057101e-02 -5.05710877e-02  8.61709714e-02\n",
      "  2.81578675e-02  4.27336358e-02 -1.03568053e-02  3.50769497e-02\n",
      "  2.66668182e-02  1.35537133e-01  1.62629187e-02  3.39147002e-02\n",
      " -2.41195410e-02 -2.08969023e-02 -2.22000778e-02 -5.85725019e-03\n",
      " -4.86188978e-02  2.49273963e-02 -2.52713282e-02  7.88503736e-02\n",
      " -5.37890643e-02 -1.21269366e-02  9.30680484e-02 -3.16183865e-02\n",
      "  4.43011336e-02 -1.35265077e-02 -2.19970755e-02 -3.27170454e-02\n",
      "  5.85856801e-03 -2.97042709e-02  4.46879342e-02  6.02242611e-02\n",
      "  2.51757205e-02 -5.38922735e-02 -8.54809303e-03 -1.56522766e-02\n",
      "  1.42534422e-02 -3.91445868e-02  2.07082536e-02  1.95419248e-02\n",
      "  5.21176197e-02  4.49564196e-02  1.33574493e-02 -4.62784395e-02\n",
      " -3.11050186e-04  6.20181672e-02 -2.60212794e-02 -3.29922251e-02\n",
      "  1.86964609e-02 -3.47570330e-02 -9.16545019e-02 -1.80489849e-03]\n",
      "(384,)\n"
     ]
    }
   ],
   "execution_count": 9
  },
  {
   "cell_type": "code",
   "metadata": {
    "ExecuteTime": {
     "end_time": "2024-06-12T19:17:12.656210Z",
     "start_time": "2024-06-12T19:16:56.675134Z"
    }
   },
   "source": [
    "## VectorStore Creation\n",
    "vectorstore=FAISS.from_documents(final_documents[:120],huggingface_embeddings)"
   ],
   "outputs": [],
   "execution_count": 10
  },
  {
   "cell_type": "code",
   "metadata": {
    "ExecuteTime": {
     "end_time": "2024-06-12T19:20:22.041437Z",
     "start_time": "2024-06-12T19:20:21.999513Z"
    }
   },
   "source": [
    "## Query using Similarity Search\n",
    "query=\"India’s Electricity Consumption in Agriculture?\"\n",
    "relevant_documents=vectorstore.similarity_search(query)\n",
    "\n",
    "print(relevant_documents[0].page_content)"
   ],
   "outputs": [
    {
     "name": "stdout",
     "output_type": "stream",
     "text": [
      "VIII.3 India’s Electricity Consumption in agriculture (Annual) 245\n",
      "VIII.4 Sustained increase in Foodgrains Production in India (Million Tonnes) 245\n",
      "VIII.5Minimum\tSupport\tPrice\tfor\tselected\tKharif\tand\tRabi\tCrops\t(₹/Quintal) 246\n",
      "VIII.6Continued\tIncrease\tin\tInstitutional\tCredit\tto\t Agriculture\tSector\t(₹\tlakh\tCrores)\t 247\n",
      "VIII. 7 Though the Crop sector is still the major contributor to agriculture GV A, the livestock sector is catching up (in per cent) 252\n",
      "VIII.8 Top ten states from Multi-State Cooperative Societies as on 20 October 2022 254\n",
      "VIII.9 Allocation of Foodgrains under NFSA and Other Welfare Schemes in 2022-23 and as of\t1\tJanuary\t2023\t(LMT)257\n",
      "VIII.10 Total Food Subsidy released by the Government of India since 2014-15 (thousand crore)258\n",
      "IX.1 Private Investment gathers momentum 263\n",
      "IX.2PMI\tManufacturing\tremains\tin\texpansionary\tzone 266\n",
      "IX.3 Sub-indices of IIP growing at a healthy pace (Apr-Nov) 266\n",
      "IX.4Steady\tGrowth\tin\tComponents\tof\tIndex\tof\tCore\tIndustries 266\n"
     ]
    }
   ],
   "execution_count": 12
  },
  {
   "cell_type": "code",
   "metadata": {
    "ExecuteTime": {
     "end_time": "2024-06-12T19:23:07.370395Z",
     "start_time": "2024-06-12T19:23:07.365295Z"
    }
   },
   "source": [
    "retriever=vectorstore.as_retriever(search_type=\"similarity\",search_kwargs={\"k\":3})\n",
    "print(retriever)"
   ],
   "outputs": [
    {
     "name": "stdout",
     "output_type": "stream",
     "text": [
      "tags=['FAISS', 'HuggingFaceBgeEmbeddings'] vectorstore=<langchain_community.vectorstores.faiss.FAISS object at 0x000001DB9E7AC440> search_kwargs={'k': 3}\n"
     ]
    }
   ],
   "execution_count": 13
  },
  {
   "cell_type": "code",
   "metadata": {
    "ExecuteTime": {
     "end_time": "2024-06-12T20:02:58.947119Z",
     "start_time": "2024-06-12T20:02:58.943876Z"
    }
   },
   "source": [
    "import os\n",
    "os.environ['HUGGINGFACEHUB_API_KEY']=str(os.getenv(\"huggingface_api\"))"
   ],
   "outputs": [],
   "execution_count": 61
  },
  {
   "cell_type": "markdown",
   "metadata": {},
   "source": "'The Hugging Face Hub is an platform with over 350k models, 75k datasets, and 150k demo apps (Spaces), all open source and publicly available, in an online platform where people can easily collaborate and build ML together."
  },
  {
   "cell_type": "code",
   "metadata": {
    "ExecuteTime": {
     "end_time": "2024-06-12T20:03:02.839357Z",
     "start_time": "2024-06-12T20:03:01.978669Z"
    }
   },
   "source": [
    "from langchain_community.llms import HuggingFaceEndpoint\n",
    "\n",
    "hf=HuggingFaceEndpoint(\n",
    "    repo_id=\"mistralai/Mistral-7B-v0.1\",\n",
    "    model_kwargs={\"max_length\":500},\n",
    "    temperature=0.1\n",
    ")\n",
    "query=\"what is India’s Electricity Consumption in Agriculture?\"\n",
    "hf.invoke(query)"
   ],
   "outputs": [
    {
     "name": "stdout",
     "output_type": "stream",
     "text": [
      "The token has not been saved to the git credentials helper. Pass `add_to_git_credential=True` in this function directly or `--add-to-git-credential` if using via `huggingface-cli` if you want to set the git credential as well.\n",
      "Token is valid (permission: read).\n",
      "Your token has been saved to C:\\Users\\supra\\.cache\\huggingface\\token\n",
      "Login successful\n"
     ]
    },
    {
     "data": {
      "text/plain": [
       "'\\n\\nIndia’s electricity consumption in agriculture is a significant contributor to the country’s overall energy consumption. Agriculture is a major sector in India, accounting for around 17% of the country’s GDP and employing around 50% of the country’s workforce.\\n\\nElectricity is used in agriculture for a variety of purposes, including irrigation, pumping water, and operating machinery. The use of electricity in agriculture has increased significantly in recent years, as the country has seen a shift towards mechanized farming.\\n\\nAccording to data from the Central Electricity Authority (CEA), India’s electricity consumption in agriculture was around 100 billion units in 2020-21. This represents around 6% of the country’s total electricity consumption.\\n\\nThe use of electricity in agriculture has several benefits. It can help to increase crop yields, reduce the need for manual labor, and improve the efficiency of farming operations. However, it also has some drawbacks, including the potential for environmental damage and the need for reliable and affordable electricity supply.\\n\\nTo address these challenges, the Indian government has implemented several policies and programs to promote the use of electricity in agriculture. These include the Pradhan Mantri Kisan Urja Suraksha evam Utthaan Mahabhiyan (PM-KUSUM) scheme, which aims to promote the use of solar power in agriculture, and the National Agriculture Market (e-NAM) program, which aims to create a unified market for agricultural produce.\\n\\nIn conclusion, India’s electricity consumption in agriculture is an important contributor to the country’s overall energy consumption. The use of electricity in agriculture has several benefits, but also some drawbacks. The Indian government has implemented several policies and programs to promote the use of electricity in agriculture and address the challenges associated with it.'"
      ]
     },
     "execution_count": 62,
     "metadata": {},
     "output_type": "execute_result"
    }
   ],
   "execution_count": 62
  },
  {
   "cell_type": "code",
   "metadata": {
    "ExecuteTime": {
     "end_time": "2024-06-12T20:07:50.762950Z",
     "start_time": "2024-06-12T20:06:58.593583Z"
    }
   },
   "source": [
    "#Hugging Face models can be run locally through the HuggingFacePipeline class.\n",
    "from langchain_community.llms.huggingface_pipeline import HuggingFacePipeline\n",
    "\n",
    "hf = HuggingFacePipeline.from_model_id(\n",
    "    model_id=\"Qwen/Qwen2-0.5B-Instruct\",\n",
    "    task=\"text-generation\",\n",
    "    pipeline_kwargs={\"temperature\": 0.1, \n",
    "            \"max_new_tokens\": 300}\n",
    ")\n",
    "\n",
    "llm = hf \n",
    "llm.invoke(query)"
   ],
   "outputs": [
    {
     "name": "stderr",
     "output_type": "stream",
     "text": [
      "Special tokens have been added in the vocabulary, make sure the associated word embeddings are fine-tuned or trained.\n"
     ]
    },
    {
     "data": {
      "text/plain": [
       "\"India’s Electricity Consumption in Agriculture: A Study of the Impact on Food Security and Economic Growth\\n\\n# India's Electricity Consumption in Agriculture: A Study of the Impact on Food Security and Economic Growth\\n\\n## Abstract\\n\\nThe aim of this study is to examine the impact of electricity consumption in agriculture on food security and economic growth. The study was conducted using a cross-sectional survey methodology, which involved collecting data from 100 farmers in the state of Haryana, India. The results showed that the electricity consumption in agriculture had a significant negative impact on food security and economic growth. Specifically, the study found that the higher the electricity consumption in agriculture, the lower the agricultural productivity and the lower the income per head. Furthermore, the study also revealed that the electricity consumption in agriculture has a direct correlation with the level of poverty in the rural areas.\\n\\n## Keywords\\n\\nElectricity Consumption; Agricultural Productivity; Income Per Head; Poverty\\n\\n## Background\\n\\nElectricity consumption in agriculture plays an important role in the overall development of a country. It is essential for the production of crops, livestock, and other agricultural products. However, it can have both positive and negative impacts on food security and economic growth. This study aims to investigate the relationship between electricity consumption in agriculture and its impact on food security and economic growth in India.\\n\\n## Methodology\\n\\nThis study used a cross-sectional survey methodology, which involved collecting data from 100 farmers in the state of Haryana, India. The sample size was determined by random sampling techniques, ensuring that\""
      ]
     },
     "execution_count": 71,
     "metadata": {},
     "output_type": "execute_result"
    }
   ],
   "execution_count": 71
  },
  {
   "cell_type": "code",
   "metadata": {
    "ExecuteTime": {
     "end_time": "2024-06-12T20:08:25.168335Z",
     "start_time": "2024-06-12T20:08:25.163453Z"
    }
   },
   "source": [
    "prompt_template=\"\"\"\n",
    "Use the following piece of context to answer the question asked.\n",
    "Please try to provide the answer only based on the context\n",
    "\n",
    "{context}\n",
    "Question:{question}\n",
    "\n",
    "Helpful Answers:\n",
    " \"\"\""
   ],
   "outputs": [],
   "execution_count": 72
  },
  {
   "cell_type": "code",
   "metadata": {
    "ExecuteTime": {
     "end_time": "2024-06-12T20:08:25.976684Z",
     "start_time": "2024-06-12T20:08:25.971819Z"
    }
   },
   "source": [
    "prompt=PromptTemplate(template=prompt_template,input_variables=[\"context\",\"question\"])"
   ],
   "outputs": [],
   "execution_count": 73
  },
  {
   "cell_type": "code",
   "metadata": {
    "ExecuteTime": {
     "end_time": "2024-06-12T20:08:26.572710Z",
     "start_time": "2024-06-12T20:08:26.566345Z"
    }
   },
   "source": [
    "retrievalQA=RetrievalQA.from_chain_type(\n",
    "    llm=hf,\n",
    "    chain_type=\"stuff\",\n",
    "    retriever=retriever,\n",
    "    return_source_documents=True,\n",
    "    chain_type_kwargs={\"prompt\":prompt}\n",
    ")"
   ],
   "outputs": [],
   "execution_count": 74
  },
  {
   "cell_type": "code",
   "metadata": {
    "ExecuteTime": {
     "end_time": "2024-06-12T20:08:27.143044Z",
     "start_time": "2024-06-12T20:08:27.139040Z"
    }
   },
   "source": "query=\"\"\"India’s Electricity Consumption in Agriculture\"\"\"",
   "outputs": [],
   "execution_count": 75
  },
  {
   "cell_type": "code",
   "metadata": {
    "ExecuteTime": {
     "end_time": "2024-06-12T20:09:22.349373Z",
     "start_time": "2024-06-12T20:08:27.791665Z"
    }
   },
   "source": [
    "# Call the QA chain with our query.\n",
    "result = retrievalQA.invoke({\"query\": query})\n",
    "print(result['result'])"
   ],
   "outputs": [
    {
     "name": "stdout",
     "output_type": "stream",
     "text": [
      "\n",
      "Use the following piece of context to answer the question asked.\n",
      "Please try to provide the answer only based on the context\n",
      "\n",
      "VIII.3 India’s Electricity Consumption in agriculture (Annual) 245\n",
      "VIII.4 Sustained increase in Foodgrains Production in India (Million Tonnes) 245\n",
      "VIII.5Minimum\tSupport\tPrice\tfor\tselected\tKharif\tand\tRabi\tCrops\t(₹/Quintal) 246\n",
      "VIII.6Continued\tIncrease\tin\tInstitutional\tCredit\tto\t Agriculture\tSector\t(₹\tlakh\tCrores)\t 247\n",
      "VIII. 7 Though the Crop sector is still the major contributor to agriculture GV A, the livestock sector is catching up (in per cent) 252\n",
      "VIII.8 Top ten states from Multi-State Cooperative Societies as on 20 October 2022 254\n",
      "VIII.9 Allocation of Foodgrains under NFSA and Other Welfare Schemes in 2022-23 and as of\t1\tJanuary\t2023\t(LMT)257\n",
      "VIII.10 Total Food Subsidy released by the Government of India since 2014-15 (thousand crore)258\n",
      "IX.1 Private Investment gathers momentum 263\n",
      "IX.2PMI\tManufacturing\tremains\tin\texpansionary\tzone 266\n",
      "IX.3 Sub-indices of IIP growing at a healthy pace (Apr-Nov) 266\n",
      "IX.4Steady\tGrowth\tin\tComponents\tof\tIndex\tof\tCore\tIndustries 266\n",
      "\n",
      "xxxviiChart No. Title Page No.\n",
      "VII.7Projected\toptimal\tmix\tof\tinstalled\tcapacity\tfor\t2029-30 227\n",
      "VII.8Projected\tfall\tof\taverage\tCO2\temissions\trate\tper\tkWh\tof\telectricity\tdue\tto\tsignificant\t\n",
      "additions in non-fossil fuel-based installed capacity227\n",
      "VII.9 Salient Features of the National Green Hydrogen Mission 228\n",
      "VII.10 Falling Levelised Cost of Hydrogen (LCOH11) for green hydrogen 229\n",
      "VII.11 Concentration of production of selected minerals in 2019 and 2025 230\n",
      "VII.12 Status of Sovereign Green Bond issuances in 2021 232\n",
      "VII.13 Success\tstory\tof\ttiger\tconservation\tefforts\treflected\tin\tincreased\ttiger\tcount 239\n",
      "VII.14 Rising\tlion\tcount\tover\tthe\tyears,\tdriven\tby\tvarious\tconservation\tefforts 239\n",
      "VIII.1 Despite Covid-19 shock agriculture & allied sector shows resilient growth 244\n",
      "VIII.2 Crowding in of Private investment in agriculture 244\n",
      "VIII.3 India’s Electricity Consumption in agriculture (Annual) 245\n",
      "VIII.4 Sustained increase in Foodgrains Production in India (Million Tonnes) 245\n",
      "\n",
      "246 MSP to Ensure Returns Over the Cost of Production\n",
      " 246 Enhanced Access to Agricultural Credit\n",
      " 247 Farm Mechanisation- Key to Improving Productivity \n",
      " 247 Chemical-free India: Organic and Natural Farming \n",
      " 248 Other Important Initiatives in Agriculture \n",
      " 252 Allied Sectors: Animal Husbandry, Dairying and Fisheries Catching up in Recent \n",
      "Years\n",
      " 253 Sahakar-Se- Samriddhi: From Cooperation to Prosperity \n",
      " 255 Food Processing Sector-The Sunrise Sector\n",
      " 256 Food Security- Social & Legal Commitment to the People of the Nation\n",
      " 258 Conclusion\n",
      "9  Industry: Steady Recovery\n",
      " 261 Introduction\n",
      " 262 Demand Stimulus to Industrial Growth\n",
      " 265 Supply Response of Industry\n",
      " 269 Robust Growth in Bank Credit to Industry\n",
      "\t 270\t Resilient\tFDI\tInflow\tin\tManufacturing\tSector\n",
      " 272 Industry Groups and their Challenges \n",
      " 284 India’s Prospects as a Key Player in the Global Value Chain\n",
      " 291 Conclusion and Outlook\n",
      "10  Services: Source of Strength \n",
      " 293 Introduction\n",
      " 294 Trends in High-Frequency Indicators\n",
      "Question:India’s Electricity Consumption in Agriculture\n",
      "\n",
      "Helpful Answers:\n",
      " 245 The electricity consumption in agriculture in India is mentioned in the document. It mentions that India's electricity consumption in agriculture is annual, with an annual average of 245 units. \n",
      "\n",
      " 246 The document also mentions that India's electricity consumption in agriculture is sustained increase in foodgrains production in India, which is mentioned as 245 units.\n",
      "\n",
      " 247 The document mentions that India's electricity consumption in agriculture is minimum support price for selected crops, which are mentioned as 246 units.\n",
      "\n",
      " 248 The document mentions that India's electricity consumption in agriculture is continued increase in institutional credit to agriculture sector, which is mentioned as 247 units.\n",
      "\n",
      " 249 The document mentions that India's electricity consumption in agriculture is top ten states from multi-state cooperative societies as on 20 October 2022, which is mentioned as 254 units.\n",
      "\n",
      " 250 The document mentions that India's electricity consumption in agriculture is allocation of foodgrains under NFSA and other welfare schemes in 2022-23 and as of January 2023, which is mentioned as 257 units.\n",
      "\n",
      " 251 The document mentions that India's electricity consumption in agriculture is total food subsidy released by the government of India since 2014-15, which is mentioned as 258 units.\n",
      "\n",
      " 252 The document mentions that India's electricity consumption in\n"
     ]
    }
   ],
   "execution_count": 76
  },
  {
   "metadata": {},
   "cell_type": "code",
   "outputs": [],
   "execution_count": null,
   "source": ""
  }
 ],
 "metadata": {
  "kernelspec": {
   "display_name": "Python 3",
   "language": "python",
   "name": "python3"
  },
  "language_info": {
   "codemirror_mode": {
    "name": "ipython",
    "version": 3
   },
   "file_extension": ".py",
   "mimetype": "text/x-python",
   "name": "python",
   "nbconvert_exporter": "python",
   "pygments_lexer": "ipython3",
   "version": "3.10.0"
  }
 },
 "nbformat": 4,
 "nbformat_minor": 2
}
