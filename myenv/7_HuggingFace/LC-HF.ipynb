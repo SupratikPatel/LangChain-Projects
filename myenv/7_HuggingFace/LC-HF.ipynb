{
 "cells": [
  {
   "cell_type": "code",
   "id": "initial_id",
   "metadata": {
    "collapsed": true,
    "ExecuteTime": {
     "end_time": "2024-06-13T00:47:55.151985Z",
     "start_time": "2024-06-13T00:47:54.743114Z"
    }
   },
   "source": [
    "from langchain_huggingface import HuggingFacePipeline\n",
    "from langchain_huggingface import HuggingFaceEndpoint"
   ],
   "outputs": [],
   "execution_count": 1
  },
  {
   "metadata": {
    "ExecuteTime": {
     "end_time": "2024-06-13T00:48:09.202679Z",
     "start_time": "2024-06-13T00:48:03.754060Z"
    }
   },
   "cell_type": "code",
   "source": [
    "llm=HuggingFacePipeline.from_model_id(\n",
    "    model_id=\"Qwen/Qwen2-0.5B-Instruct\",\n",
    "    task=\"text-generation\",\n",
    "    pipeline_kwargs={\"temperature\":0.1, \"max_new_tokens\":100,\n",
    "                     \"top_k\":50},\n",
    ")"
   ],
   "id": "561ca2e2720317e3",
   "outputs": [
    {
     "name": "stderr",
     "output_type": "stream",
     "text": [
      "Special tokens have been added in the vocabulary, make sure the associated word embeddings are fine-tuned or trained.\n"
     ]
    }
   ],
   "execution_count": 2
  },
  {
   "metadata": {
    "ExecuteTime": {
     "end_time": "2024-06-13T00:48:55.809282Z",
     "start_time": "2024-06-13T00:48:55.805470Z"
    }
   },
   "cell_type": "code",
   "source": [
    "import os\n",
    "os.environ['HUGGINGFACEHUB_API_KEY']=str(os.getenv(\"huggingface_api\"))"
   ],
   "id": "f73b0fd667fa850a",
   "outputs": [],
   "execution_count": 3
  },
  {
   "metadata": {
    "ExecuteTime": {
     "end_time": "2024-06-13T00:49:14.764173Z",
     "start_time": "2024-06-13T00:49:14.757224Z"
    }
   },
   "cell_type": "code",
   "source": [
    "llm = HuggingFaceEndpoint(\n",
    "    repo_id=\"meta-llama/Meta-Llama-3-8B-Instruct\",\n",
    "    task=\"text-generation\",\n",
    "    max_new_tokens=100,\n",
    "    do_sample=False,\n",
    ")"
   ],
   "id": "5137db8d48f939c2",
   "outputs": [],
   "execution_count": 4
  },
  {
   "metadata": {
    "ExecuteTime": {
     "end_time": "2024-06-13T00:49:52.473902Z",
     "start_time": "2024-06-13T00:49:49.411809Z"
    }
   },
   "cell_type": "code",
   "source": "llm.invoke(\"What is Dieter Schwarz Stiftung?\")",
   "id": "a5e677c345790f2a",
   "outputs": [
    {
     "data": {
      "text/plain": [
       "' Dieter Schwarz Stiftung is a private foundation established by Dieter Schwarz, the founder of the German discount supermarket chain Lidl. The foundation was established in 2011 with the aim of supporting charitable projects and initiatives that benefit society. The foundation is headquartered in Stuttgart, Germany, and has a focus on supporting projects that promote education, healthcare, and social welfare. The foundation also supports projects that address environmental and climate protection, as well as cultural and artistic initiatives. Dieter Schwarz Stiftung'"
      ]
     },
     "execution_count": 5,
     "metadata": {},
     "output_type": "execute_result"
    }
   ],
   "execution_count": 5
  },
  {
   "metadata": {},
   "cell_type": "code",
   "outputs": [],
   "execution_count": null,
   "source": "",
   "id": "9416afeebcaf484a"
  }
 ],
 "metadata": {
  "kernelspec": {
   "display_name": "Python 3",
   "language": "python",
   "name": "python3"
  },
  "language_info": {
   "codemirror_mode": {
    "name": "ipython",
    "version": 2
   },
   "file_extension": ".py",
   "mimetype": "text/x-python",
   "name": "python",
   "nbconvert_exporter": "python",
   "pygments_lexer": "ipython2",
   "version": "2.7.6"
  }
 },
 "nbformat": 4,
 "nbformat_minor": 5
}
